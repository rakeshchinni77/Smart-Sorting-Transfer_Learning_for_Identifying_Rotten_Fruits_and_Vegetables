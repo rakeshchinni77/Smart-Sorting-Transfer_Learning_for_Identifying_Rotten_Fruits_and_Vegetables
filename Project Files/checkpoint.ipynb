{
 "cells": [
  {
   "cell_type": "code",
   "execution_count": 1,
   "id": "0605e6f5",
   "metadata": {},
   "outputs": [],
   "source": [
    "import os\n",
    "import shutil\n",
    "from tensorflow.keras.preprocessing.image import ImageDataGenerator\n",
    "from sklearn.model_selection import train_test_split\n",
    "import shutil\n",
    "from sklearn.model_selection import train_test_split\n",
    "from tensorflow.keras.applications.vgg16 import VGG16\n",
    "from tensorflow.keras.layers import Dense, Flatten\n",
    "from tensorflow.keras.models import Model\n",
    "from keras.optimizers import Adam\n",
    "from tensorflow.keras.applications.resnet50 import ResNet50\n",
    "from tensorflow.keras.layers import Dense, Flatten\n",
    "from tensorflow.keras.models import Model\n",
    "from keras.preprocessing import image\n",
    "from keras.applications.vgg16 import preprocess_input\n",
    "from tensorflow.keras.preprocessing.image import load_img, img_to_array"
   ]
  },
  {
   "cell_type": "code",
   "execution_count": null,
   "id": "79e6d843",
   "metadata": {},
   "outputs": [
    {
     "name": "stdout",
     "output_type": "stream",
     "text": [
      "Class: Apple__Healthy, Total Images: 2438\n",
      "Class: Apple__Rotten, Total Images: 2930\n",
      "Class: Banana__Healthy, Total Images: 2000\n",
      "Class: Banana__Rotten, Total Images: 2800\n",
      "Class: Bellpepper__Healthy, Total Images: 611\n",
      "Class: Bellpepper__Rotten, Total Images: 591\n",
      "Class: Carrot__Healthy, Total Images: 620\n",
      "Class: Carrot__Rotten, Total Images: 580\n",
      "Class: Cucumber__Healthy, Total Images: 608\n",
      "Class: Cucumber__Rotten, Total Images: 593\n",
      "Class: Grape__Healthy, Total Images: 200\n",
      "Class: Grape__Rotten, Total Images: 200\n",
      "Class: Guava__Healthy, Total Images: 200\n",
      "Class: Guava__Rotten, Total Images: 200\n",
      "Class: Jujube__Healthy, Total Images: 200\n",
      "Class: Jujube__Rotten, Total Images: 200\n",
      "Class: Mango__Healthy, Total Images: 1813\n",
      "Class: Mango__Rotten, Total Images: 2247\n",
      "Class: Orange__Healthy, Total Images: 2075\n",
      "Class: Orange__Rotten, Total Images: 2186\n",
      "Class: Pomegranate__Healthy, Total Images: 200\n",
      "Class: Pomegranate__Rotten, Total Images: 200\n",
      "Class: Potato__Healthy, Total Images: 615\n",
      "Class: Potato__Rotten, Total Images: 585\n",
      "Class: Strawberry__Healthy, Total Images: 1603\n",
      "Class: Strawberry__Rotten, Total Images: 1596\n",
      "Class: Tomato__Healthy, Total Images: 604\n",
      "Class: Tomato__Rotten, Total Images: 596\n",
      "✅ Dataset split into training, validation, and test sets successfully.\n"
     ]
    }
   ],
   "source": [
    "import os\n",
    "import shutil\n",
    "import numpy as np\n",
    "from sklearn.model_selection import train_test_split\n",
    "\n",
    "\n",
    "dataset_dir = r\"C:\\Users\\rakes\\OneDrive\\Desktop\\Fruit_Guard_AI\\fruit_vegetable_dataset\"\n",
    "\n",
    "\n",
    "classes = [d for d in os.listdir(dataset_dir) if os.path.isdir(os.path.join(dataset_dir, d))]\n",
    "\n",
    "\n",
    "output_dir = r\"C:\\Users\\rakes\\OneDrive\\Desktop\\Fruit_Guard_AI\"\n",
    "os.makedirs(output_dir, exist_ok=True)\n",
    "os.makedirs(os.path.join(output_dir, 'train'), exist_ok=True)\n",
    "os.makedirs(os.path.join(output_dir, 'val'), exist_ok=True)\n",
    "os.makedirs(os.path.join(output_dir, 'test'), exist_ok=True)\n",
    "\n",
    "\n",
    "for cls in classes:\n",
    "    os.makedirs(os.path.join(output_dir, 'train', cls), exist_ok=True)\n",
    "    os.makedirs(os.path.join(output_dir, 'val', cls), exist_ok=True)\n",
    "    os.makedirs(os.path.join(output_dir, 'test', cls), exist_ok=True)\n",
    "\n",
    "    class_dir = os.path.join(dataset_dir, cls)\n",
    "    images = os.listdir(class_dir)\n",
    "\n",
    "    print(f\"Class: {cls}, Total Images: {len(images)}\")\n",
    "\n",
    "    \n",
    "    train_and_val_images, test_images = train_test_split(images, test_size=0.2, random_state=42)\n",
    "    train_images, val_images = train_test_split(train_and_val_images, test_size=0.25, random_state=42)\n",
    "\n",
    "  \n",
    "    for img in train_images:\n",
    "        shutil.copy(os.path.join(class_dir, img), os.path.join(output_dir, 'train', cls, img))\n",
    "    for img in val_images:\n",
    "        shutil.copy(os.path.join(class_dir, img), os.path.join(output_dir, 'val', cls, img))\n",
    "    for img in test_images:\n",
    "        shutil.copy(os.path.join(class_dir, img), os.path.join(output_dir, 'test', cls, img))\n",
    "\n",
    "print(\"✅ Dataset split into training, validation, and test sets successfully.\")\n"
   ]
  },
  {
   "cell_type": "code",
   "execution_count": null,
   "id": "178b1646",
   "metadata": {},
   "outputs": [
    {
     "name": "stdout",
     "output_type": "stream",
     "text": [
      "Found 17560 images belonging to 28 classes.\n",
      "Found 5856 images belonging to 28 classes.\n",
      "Found 5861 images belonging to 28 classes.\n",
      "Train Classes: {'Apple__Healthy': 0, 'Apple__Rotten': 1, 'Banana__Healthy': 2, 'Banana__Rotten': 3, 'Bellpepper__Healthy': 4, 'Bellpepper__Rotten': 5, 'Carrot__Healthy': 6, 'Carrot__Rotten': 7, 'Cucumber__Healthy': 8, 'Cucumber__Rotten': 9, 'Grape__Healthy': 10, 'Grape__Rotten': 11, 'Guava__Healthy': 12, 'Guava__Rotten': 13, 'Jujube__Healthy': 14, 'Jujube__Rotten': 15, 'Mango__Healthy': 16, 'Mango__Rotten': 17, 'Orange__Healthy': 18, 'Orange__Rotten': 19, 'Pomegranate__Healthy': 20, 'Pomegranate__Rotten': 21, 'Potato__Healthy': 22, 'Potato__Rotten': 23, 'Strawberry__Healthy': 24, 'Strawberry__Rotten': 25, 'Tomato__Healthy': 26, 'Tomato__Rotten': 27}\n",
      "Val Classes: {'Apple__Healthy': 0, 'Apple__Rotten': 1, 'Banana__Healthy': 2, 'Banana__Rotten': 3, 'Bellpepper__Healthy': 4, 'Bellpepper__Rotten': 5, 'Carrot__Healthy': 6, 'Carrot__Rotten': 7, 'Cucumber__Healthy': 8, 'Cucumber__Rotten': 9, 'Grape__Healthy': 10, 'Grape__Rotten': 11, 'Guava__Healthy': 12, 'Guava__Rotten': 13, 'Jujube__Healthy': 14, 'Jujube__Rotten': 15, 'Mango__Healthy': 16, 'Mango__Rotten': 17, 'Orange__Healthy': 18, 'Orange__Rotten': 19, 'Pomegranate__Healthy': 20, 'Pomegranate__Rotten': 21, 'Potato__Healthy': 22, 'Potato__Rotten': 23, 'Strawberry__Healthy': 24, 'Strawberry__Rotten': 25, 'Tomato__Healthy': 26, 'Tomato__Rotten': 27}\n",
      "Test Classes: {'Apple__Healthy': 0, 'Apple__Rotten': 1, 'Banana__Healthy': 2, 'Banana__Rotten': 3, 'Bellpepper__Healthy': 4, 'Bellpepper__Rotten': 5, 'Carrot__Healthy': 6, 'Carrot__Rotten': 7, 'Cucumber__Healthy': 8, 'Cucumber__Rotten': 9, 'Grape__Healthy': 10, 'Grape__Rotten': 11, 'Guava__Healthy': 12, 'Guava__Rotten': 13, 'Jujube__Healthy': 14, 'Jujube__Rotten': 15, 'Mango__Healthy': 16, 'Mango__Rotten': 17, 'Orange__Healthy': 18, 'Orange__Rotten': 19, 'Pomegranate__Healthy': 20, 'Pomegranate__Rotten': 21, 'Potato__Healthy': 22, 'Potato__Rotten': 23, 'Strawberry__Healthy': 24, 'Strawberry__Rotten': 25, 'Tomato__Healthy': 26, 'Tomato__Rotten': 27}\n"
     ]
    }
   ],
   "source": [
    "import os\n",
    "from tensorflow.keras.preprocessing.image import ImageDataGenerator\n",
    "\n",
    "\n",
    "base_dir = r\"C:\\Users\\rakes\\OneDrive\\Desktop\\Fruit_Guard_AI\"\n",
    "train_dir = os.path.join(base_dir, 'train')\n",
    "val_dir = os.path.join(base_dir, 'val')\n",
    "test_dir = os.path.join(base_dir, 'test')\n",
    "\n",
    "# Image size\n",
    "IMG_SIZE = (224, 224)\n",
    "\n",
    "\n",
    "train_datagen = ImageDataGenerator(\n",
    "    rescale=1./255,\n",
    "    rotation_range=20,\n",
    "    width_shift_range=0.2,\n",
    "    height_shift_range=0.2,\n",
    "    shear_range=0.2,\n",
    "    zoom_range=0.2,\n",
    "    horizontal_flip=True,\n",
    "    fill_mode='nearest'\n",
    ")\n",
    "\n",
    "val_test_datagen = ImageDataGenerator(rescale=1./255)\n",
    "\n",
    "\n",
    "train_generator = train_datagen.flow_from_directory(\n",
    "    train_dir,\n",
    "    target_size=IMG_SIZE,\n",
    "    batch_size=32,\n",
    "    class_mode='binary'\n",
    ")\n",
    "\n",
    "val_generator = val_test_datagen.flow_from_directory(\n",
    "    val_dir,\n",
    "    target_size=IMG_SIZE,\n",
    "    batch_size=32,\n",
    "    class_mode='binary'\n",
    ")\n",
    "\n",
    "test_generator = val_test_datagen.flow_from_directory(\n",
    "    test_dir,\n",
    "    target_size=IMG_SIZE,\n",
    "    batch_size=32,\n",
    "    class_mode='binary',\n",
    "    shuffle=False\n",
    ")\n",
    "\n",
    "print(\"Train Classes:\", train_generator.class_indices)\n",
    "print(\"Val Classes:\", val_generator.class_indices)\n",
    "print(\"Test Classes:\", test_generator.class_indices)\n"
   ]
  },
  {
   "cell_type": "code",
   "execution_count": null,
   "id": "8f74723b",
   "metadata": {},
   "outputs": [
    {
     "data": {
      "image/jpeg": "[encoded data removed]",
      "image/png": "[encoded data removed]",
      "text/plain": [
       "<PIL.PngImagePlugin.PngImageFile image mode=RGB size=194x192>"
      ]
     },
     "metadata": {},
     "output_type": "display_data"
    }
   ],
   "source": [
    "import os\n",
    "import random\n",
    "from PIL import Image  \n",
    "from IPython.display import display  \n",
    "\n",
    "\n",
    "folder_path = r\"C:\\Users\\rakes\\OneDrive\\Desktop\\Fruit_Guard_AI\\train\\Apple__Healthy\" \n",
    "\n",
    "\n",
    "image_files = [f for f in os.listdir(folder_path) if f.endswith(('.jpg', '.png', '.jpeg'))]\n",
    "\n",
    "\n",
    "selected_image = random.choice(image_files)\n",
    "\n",
    "\n",
    "image_path = os.path.join(folder_path, selected_image)\n",
    "display(Image.open(image_path))"
   ]
  },
  {
   "cell_type": "code",
   "execution_count": null,
   "id": "cc251e79",
   "metadata": {},
   "outputs": [
    {
     "data": {
      "image/jpeg": "[encoded data removed]",
      "image/png": "[encoded data removed]",
      "text/plain": [
       "<PIL.JpegImagePlugin.JpegImageFile image mode=RGB size=224x224>"
      ]
     },
     "metadata": {},
     "output_type": "display_data"
    }
   ],
   "source": [
    "import os\n",
    "import random\n",
    "from PIL import Image\n",
    "from IPython.display import display\n",
    "\n",
    "\n",
    "folder_path = r\"C:\\Users\\rakes\\OneDrive\\Desktop\\Fruit_Guard_AI\\test\\Strawberry__Healthy\"\n",
    "\n",
    "\n",
    "image_files = [f for f in os.listdir(folder_path) if f.endswith(('.jpg', '.png', '.jpeg'))]\n",
    "\n",
    "\n",
    "selected_image = random.choice(image_files)\n",
    "\n",
    "\n",
    "image_path = os.path.join(folder_path, selected_image)\n",
    "\n",
    "\n",
    "display(Image.open(image_path))\n"
   ]
  },
  {
   "cell_type": "code",
   "execution_count": null,
   "id": "d6f95324",
   "metadata": {},
   "outputs": [
    {
     "data": {
      "image/jpeg": "[encoded data removed]",
      "image/png": "[encoded data removed]",
      "text/plain": [
       "<PIL.JpegImagePlugin.JpegImageFile image mode=RGB size=100x100>"
      ]
     },
     "metadata": {},
     "output_type": "display_data"
    }
   ],
   "source": [
    "import os\n",
    "import random\n",
    "from PIL import Image\n",
    "from IPython.display import display\n",
    "\n",
    "\n",
    "folder_path = r\"C:\\Users\\rakes\\OneDrive\\Desktop\\Fruit_Guard_AI\\test\\Cucumber__Rotten\"\n",
    "\n",
    "\n",
    "image_files = [f for f in os.listdir(folder_path) if f.endswith(('.jpg', '.png', '.jpeg'))]\n",
    "\n",
    "\n",
    "selected_image = random.choice(image_files)\n",
    "\n",
    "\n",
    "image_path = os.path.join(folder_path, selected_image)\n",
    "\n",
    "\n",
    "display(Image.open(image_path))\n"
   ]
  },
  {
   "cell_type": "code",
   "execution_count": null,
   "id": "ffd0e934",
   "metadata": {},
   "outputs": [
    {
     "name": "stdout",
     "output_type": "stream",
     "text": [
      "Found 17560 images belonging to 28 classes.\n",
      "Found 5861 images belonging to 28 classes.\n"
     ]
    }
   ],
   "source": [
    "trainpath = r\"C:\\Users\\rakes\\OneDrive\\Desktop\\Fruit_Guard_AI\\train\"\n",
    "testpath = r\"C:\\Users\\rakes\\OneDrive\\Desktop\\Fruit_Guard_AI\\test\"\n",
    "\n",
    "train_datagen = ImageDataGenerator(rescale = 1./255,zoom_range = 0.2,shear_range= 0.2)\n",
    "test_datagen = ImageDataGenerator(rescale = 1./255)\n",
    "\n",
    "train = train_datagen.flow_from_directory(trainpath,target_size =(224,224),batch_size = 20)\n",
    "test = test_datagen.flow_from_directory(testpath,target_size =(224,224),batch_size = 20) ,\n",
    "\n"
   ]
  },
  {
   "cell_type": "code",
   "execution_count": 23,
   "id": "72829fd2",
   "metadata": {},
   "outputs": [],
   "source": [
    "from tensorflow.keras.applications.vgg16 import VGG16\n",
    "from tensorflow.keras.layers import Dense, Flatten\n",
    "from tensorflow.keras.models import Model"
   ]
  },
  {
   "cell_type": "code",
   "execution_count": 24,
   "id": "37f22503",
   "metadata": {},
   "outputs": [],
   "source": [
    "vgg = VGG16(include_top = False,input_shape = (224,224,3))"
   ]
  },
  {
   "cell_type": "code",
   "execution_count": 25,
   "id": "d9030155",
   "metadata": {},
   "outputs": [
    {
     "name": "stdout",
     "output_type": "stream",
     "text": [
      "<InputLayer name=input_layer, built=True>\n",
      "<Conv2D name=block1_conv1, built=True>\n",
      "<Conv2D name=block1_conv2, built=True>\n",
      "<MaxPooling2D name=block1_pool, built=True>\n",
      "<Conv2D name=block2_conv1, built=True>\n",
      "<Conv2D name=block2_conv2, built=True>\n",
      "<MaxPooling2D name=block2_pool, built=True>\n",
      "<Conv2D name=block3_conv1, built=True>\n",
      "<Conv2D name=block3_conv2, built=True>\n",
      "<Conv2D name=block3_conv3, built=True>\n",
      "<MaxPooling2D name=block3_pool, built=True>\n",
      "<Conv2D name=block4_conv1, built=True>\n",
      "<Conv2D name=block4_conv2, built=True>\n",
      "<Conv2D name=block4_conv3, built=True>\n",
      "<MaxPooling2D name=block4_pool, built=True>\n",
      "<Conv2D name=block5_conv1, built=True>\n",
      "<Conv2D name=block5_conv2, built=True>\n",
      "<Conv2D name=block5_conv3, built=True>\n",
      "<MaxPooling2D name=block5_pool, built=True>\n"
     ]
    }
   ],
   "source": [
    "for layer in vgg.layers:\n",
    "    print(layer)"
   ]
  },
  {
   "cell_type": "code",
   "execution_count": null,
   "id": "f25d60be",
   "metadata": {},
   "outputs": [
    {
     "name": "stdout",
     "output_type": "stream",
     "text": [
      "Found 17560 images belonging to 28 classes.\n",
      "Found 5856 images belonging to 28 classes.\n"
     ]
    },
    {
     "name": "stderr",
     "output_type": "stream",
     "text": [
      "c:\\Users\\rakes\\anaconda3\\envs\\pyenv310\\lib\\site-packages\\keras\\src\\trainers\\data_adapters\\py_dataset_adapter.py:121: UserWarning: Your `PyDataset` class should call `super().__init__(**kwargs)` in its constructor. `**kwargs` can include `workers`, `use_multiprocessing`, `max_queue_size`. Do not pass these arguments to `fit()`, as they will be ignored.\n",
      "  self._warn_if_super_not_called()\n"
     ]
    },
    {
     "name": "stdout",
     "output_type": "stream",
     "text": [
      "1/1 - 2s - 2s/step - accuracy: 0.0000e+00 - loss: 3.4658 - val_accuracy: 0.0000e+00 - val_loss: 3.8052\n"
     ]
    },
    {
     "name": "stderr",
     "output_type": "stream",
     "text": [
      "WARNING:absl:You are saving your model as an HDF5 file via `model.save()` or `keras.saving.save_model(model)`. This file format is considered legacy. We recommend using instead the native Keras format, e.g. `model.save('my_model.keras')` or `keras.saving.save_model(model, 'my_model.keras')`. \n"
     ]
    }
   ],
   "source": [
    "\n",
    "import os\n",
    "from keras.applications import VGG16\n",
    "from keras.models import Model\n",
    "from keras.layers import Flatten, Dense, Dropout\n",
    "from keras.optimizers import Adam\n",
    "from tensorflow.keras.preprocessing.image import ImageDataGenerator\n",
    "\n",
    "IMG_SIZE = (224, 224)\n",
    "BATCH_SIZE = 4\n",
    "EPOCHS = 1\n",
    "base_dir = r\"C:\\Users\\rakes\\OneDrive\\Desktop\\Fruit_Guard_AI\"\n",
    "train_dir = os.path.join(base_dir, 'train')\n",
    "val_dir = os.path.join(base_dir, 'val')\n",
    "\n",
    "\n",
    "train_datagen = ImageDataGenerator(rescale=1./255)\n",
    "val_datagen = ImageDataGenerator(rescale=1./255)\n",
    "\n",
    "train_gen = train_datagen.flow_from_directory(\n",
    "    train_dir,\n",
    "    target_size=IMG_SIZE,\n",
    "    batch_size=BATCH_SIZE,\n",
    "    class_mode='categorical'\n",
    ")\n",
    "\n",
    "val_gen = val_datagen.flow_from_directory(\n",
    "    val_dir,\n",
    "    target_size=IMG_SIZE,\n",
    "    batch_size=BATCH_SIZE,\n",
    "    class_mode='categorical'\n",
    ")\n",
    "\n",
    "base_model = VGG16(weights='imagenet', include_top=False, input_shape=(224, 224, 3))\n",
    "\n",
    "for layer in base_model.layers:\n",
    "    layer.trainable = False\n",
    "\n",
    "\n",
    "x = Flatten()(base_model.output)\n",
    "x = Dense(64, activation='relu')(x)\n",
    "x = Dropout(0.5)(x)\n",
    "output = Dense(train_gen.num_classes, activation='softmax')(x)\n",
    "\n",
    "model = Model(inputs=base_model.input, outputs=output)\n",
    "\n",
    "\n",
    "model.compile(optimizer=Adam(learning_rate=0.001),\n",
    "              loss='categorical_crossentropy',\n",
    "              metrics=['accuracy'])\n",
    "\n",
    "model.fit(\n",
    "    train_gen,\n",
    "    validation_data=val_gen,\n",
    "    epochs=EPOCHS,\n",
    "    steps_per_epoch=1,\n",
    "    validation_steps=1,\n",
    "    verbose=2\n",
    ")\n",
    "\n",
    "\n",
    "model.save(\"healthy_vs_rotten.h5\")\n",
    "\n"
   ]
  },
  {
   "cell_type": "code",
   "execution_count": null,
   "id": "309b9896",
   "metadata": {},
   "outputs": [
    {
     "name": "stdout",
     "output_type": "stream",
     "text": [
      "True\n",
      "['app.py', 'checkpoint.ipynb', 'dataset', 'fruit_vegetable_dataset', 'healthy_vs_rotten.h5', 'static', 'templates', 'test', 'train', 'val', 'vgg16_fruit_classifier.h5']\n"
     ]
    }
   ],
   "source": [
    "import os\n",
    "print(os.path.exists(train_dir))  \n",
    "print(os.listdir(base_dir))      \n"
   ]
  },
  {
   "cell_type": "code",
   "execution_count": 4,
   "id": "8626dbb8",
   "metadata": {},
   "outputs": [],
   "source": [
    "labels=[0,1,2,3,4,5,6,7,8,9,10,11,12,13,14,15,16,17,18,19,20,21,22,23,24,25,26,27]"
   ]
  },
  {
   "cell_type": "code",
   "execution_count": 5,
   "id": "8568c59f",
   "metadata": {},
   "outputs": [],
   "source": [
    "img_path = r\"C:\\Users\\rakes\\OneDrive\\Desktop\\Fruit_Guard_AI\\train\\Bellpepper__Healthy\\freshPepper (104).jpg\""
   ]
  },
  {
   "cell_type": "code",
   "execution_count": null,
   "id": "5d190285",
   "metadata": {},
   "outputs": [
    {
     "name": "stderr",
     "output_type": "stream",
     "text": [
      "WARNING:absl:Compiled the loaded model, but the compiled metrics have yet to be built. `model.compile_metrics` will be empty until you train or evaluate the model.\n"
     ]
    },
    {
     "name": "stdout",
     "output_type": "stream",
     "text": [
      "\u001b[1m1/1\u001b[0m \u001b[32m━━━━━━━━━━━━━━━━━━━━\u001b[0m\u001b[37m\u001b[0m \u001b[1m0s\u001b[0m 424ms/step\n",
      "Predicted Class: Apple___Fresh\n"
     ]
    }
   ],
   "source": [
    "import numpy as np\n",
    "from tensorflow.keras.preprocessing.image import load_img, img_to_array\n",
    "from tensorflow.keras.applications.vgg16 import preprocess_input\n",
    "from tensorflow.keras.models import load_model\n",
    "\n",
    "\n",
    "labels = [\n",
    "    'Apple___Fresh', 'Apple___Rotten',\n",
    "    'Banana___Fresh', 'Banana___Rotten',\n",
    "    'Bellpepper__Healthy', 'Bellpepper__Unhealthy',\n",
    "    'Guava___Fresh', 'Guava___Rotten',\n",
    "    'Mango___Fresh', 'Mango___Rotten',\n",
    "    'Orange___Fresh', 'Orange___Rotten',\n",
    "    'Pomegranate___Fresh', 'Pomegranate___Rotten',\n",
    "    'Tomato___Fresh', 'Tomato___Rotten'\n",
    "]\n",
    "\n",
    "\n",
    "model = load_model(\"healthy_vs_rotten.h5\") \n",
    "\n",
    "\n",
    "img_path = r\"C:\\Users\\rakes\\OneDrive\\Desktop\\Fruit_Guard_AI\\train\\Bellpepper__Healthy\\freshPepper (11).jpg\"\n",
    "img = load_img(img_path, target_size=(224, 224))\n",
    "x = img_to_array(img)\n",
    "x = preprocess_input(x)\n",
    "x = np.expand_dims(x, axis=0)\n",
    "\n",
    "\n",
    "preds = model.predict(x)\n",
    "predicted_label = labels[np.argmax(preds)]\n",
    "\n",
    "print(\"Predicted Class:\", predicted_label)\n"
   ]
  },
  {
   "cell_type": "code",
   "execution_count": 17,
   "id": "a92a136c",
   "metadata": {},
   "outputs": [
    {
     "data": {
      "text/plain": [
       "'Apple___Fresh'"
      ]
     },
     "execution_count": 17,
     "metadata": {},
     "output_type": "execute_result"
    }
   ],
   "source": [
    "labels[np.argmax(preds)]\n"
   ]
  },
  {
   "cell_type": "code",
   "execution_count": null,
   "id": "7868889c",
   "metadata": {},
   "outputs": [
    {
     "name": "stderr",
     "output_type": "stream",
     "text": [
      "WARNING:absl:Compiled the loaded model, but the compiled metrics have yet to be built. `model.compile_metrics` will be empty until you train or evaluate the model.\n"
     ]
    },
    {
     "name": "stdout",
     "output_type": "stream",
     "text": [
      "\u001b[1m1/1\u001b[0m \u001b[32m━━━━━━━━━━━━━━━━━━━━\u001b[0m\u001b[37m\u001b[0m \u001b[1m0s\u001b[0m 445ms/step\n",
      "Predicted Class: Apple___Rotten\n"
     ]
    }
   ],
   "source": [
    "import numpy as np\n",
    "from tensorflow.keras.preprocessing.image import load_img, img_to_array\n",
    "from tensorflow.keras.applications.vgg16 import preprocess_input\n",
    "from tensorflow.keras.models import load_model\n",
    "\n",
    "\n",
    "labels = [\n",
    "    'Apple___Fresh', 'Apple___Rotten',\n",
    "    'Banana___Fresh', 'Banana___Rotten',\n",
    "    'Bellpepper__Healthy', 'Bellpepper__Unhealthy',\n",
    "    'Guava___Fresh', 'Guava___Rotten',\n",
    "    'Mango___Fresh', 'Mango___Rotten',\n",
    "    'Orange___Fresh', 'Orange___Rotten',\n",
    "    'Pomegranate___Fresh', 'Pomegranate___Rotten',\n",
    "    'Tomato___Fresh', 'Tomato___Rotten'\n",
    "]\n",
    "\n",
    "\n",
    "model = load_model(\"healthy_vs_rotten.h5\") \n",
    "\n",
    "\n",
    "img_path = r\"C:\\Users\\rakes\\OneDrive\\Desktop\\Fruit_Guard_AI\\train\\Apple__Healthy\\FreshApple (18).jpg\"\n",
    "img = load_img(img_path, target_size=(224, 224))\n",
    "x = img_to_array(img)\n",
    "x = preprocess_input(x)\n",
    "x = np.expand_dims(x, axis=0)\n",
    "\n",
    "\n",
    "preds = model.predict(x)\n",
    "predicted_label = labels[np.argmax(preds)]\n",
    "\n",
    "print(\"Predicted Class:\", predicted_label)\n"
   ]
  },
  {
   "cell_type": "code",
   "execution_count": 20,
   "id": "87923d91",
   "metadata": {},
   "outputs": [
    {
     "data": {
      "text/plain": [
       "'Apple___Rotten'"
      ]
     },
     "execution_count": 20,
     "metadata": {},
     "output_type": "execute_result"
    }
   ],
   "source": [
    "\n",
    "labels[np.argmax(preds)]"
   ]
  },
  {
   "cell_type": "code",
   "execution_count": null,
   "id": "730e929d",
   "metadata": {},
   "outputs": [
    {
     "name": "stderr",
     "output_type": "stream",
     "text": [
      "WARNING:absl:Compiled the loaded model, but the compiled metrics have yet to be built. `model.compile_metrics` will be empty until you train or evaluate the model.\n"
     ]
    },
    {
     "name": "stdout",
     "output_type": "stream",
     "text": [
      "\u001b[1m1/1\u001b[0m \u001b[32m━━━━━━━━━━━━━━━━━━━━\u001b[0m\u001b[37m\u001b[0m \u001b[1m0s\u001b[0m 399ms/step\n",
      "Predicted Class: Apple___Rotten\n"
     ]
    }
   ],
   "source": [
    "import numpy as np\n",
    "from tensorflow.keras.preprocessing.image import load_img, img_to_array\n",
    "from tensorflow.keras.applications.vgg16 import preprocess_input\n",
    "from tensorflow.keras.models import load_model\n",
    "\n",
    "\n",
    "labels = [\n",
    "    'Apple___Fresh', 'Apple___Rotten',\n",
    "    'Banana___Fresh', 'Banana___Rotten',\n",
    "    'Bellpepper__Healthy', 'Bellpepper__Unhealthy',\n",
    "    'Guava___Fresh', 'Guava___Rotten',\n",
    "    'Mango___Fresh', 'Mango___Rotten',\n",
    "    'Orange___Fresh', 'Orange___Rotten',\n",
    "    'Pomegranate___Fresh', 'Pomegranate___Rotten',\n",
    "    'Tomato___Fresh', 'Tomato___Rotten'\n",
    "]\n",
    "\n",
    "\n",
    "model = load_model(\"healthy_vs_rotten.h5\")  \n",
    "\n",
    "\n",
    "img_path = r\"C:\\Users\\rakes\\OneDrive\\Desktop\\Fruit_Guard_AI\\train\\Apple__Rotten\\rotated_by_15_Screen Shot 2018-06-07 at 2.23.24 PM.png\"\n",
    "img = load_img(img_path, target_size=(224, 224))\n",
    "x = img_to_array(img)\n",
    "x = preprocess_input(x)\n",
    "x = np.expand_dims(x, axis=0)\n",
    "\n",
    "\n",
    "preds = model.predict(x)\n",
    "predicted_label = labels[np.argmax(preds)]\n",
    "\n",
    "print(\"Predicted Class:\", predicted_label)\n"
   ]
  },
  {
   "cell_type": "code",
   "execution_count": 22,
   "id": "aede5be9",
   "metadata": {},
   "outputs": [
    {
     "data": {
      "text/plain": [
       "'Apple___Rotten'"
      ]
     },
     "execution_count": 22,
     "metadata": {},
     "output_type": "execute_result"
    }
   ],
   "source": [
    "\n",
    "labels[np.argmax(preds)]"
   ]
  },
  {
   "cell_type": "code",
   "execution_count": null,
   "id": "ff7164dc",
   "metadata": {},
   "outputs": [
    {
     "name": "stderr",
     "output_type": "stream",
     "text": [
      "WARNING:absl:Compiled the loaded model, but the compiled metrics have yet to be built. `model.compile_metrics` will be empty until you train or evaluate the model.\n"
     ]
    },
    {
     "name": "stdout",
     "output_type": "stream",
     "text": [
      "WARNING:tensorflow:5 out of the last 8 calls to <function TensorFlowTrainer.make_predict_function.<locals>.one_step_on_data_distributed at 0x0000024CC09BEA70> triggered tf.function retracing. Tracing is expensive and the excessive number of tracings could be due to (1) creating @tf.function repeatedly in a loop, (2) passing tensors with different shapes, (3) passing Python objects instead of tensors. For (1), please define your @tf.function outside of the loop. For (2), @tf.function has reduce_retracing=True option that can avoid unnecessary retracing. For (3), please refer to https://www.tensorflow.org/guide/function#controlling_retracing and https://www.tensorflow.org/api_docs/python/tf/function for  more details.\n"
     ]
    },
    {
     "name": "stderr",
     "output_type": "stream",
     "text": [
      "WARNING:tensorflow:5 out of the last 8 calls to <function TensorFlowTrainer.make_predict_function.<locals>.one_step_on_data_distributed at 0x0000024CC09BEA70> triggered tf.function retracing. Tracing is expensive and the excessive number of tracings could be due to (1) creating @tf.function repeatedly in a loop, (2) passing tensors with different shapes, (3) passing Python objects instead of tensors. For (1), please define your @tf.function outside of the loop. For (2), @tf.function has reduce_retracing=True option that can avoid unnecessary retracing. For (3), please refer to https://www.tensorflow.org/guide/function#controlling_retracing and https://www.tensorflow.org/api_docs/python/tf/function for  more details.\n"
     ]
    },
    {
     "name": "stdout",
     "output_type": "stream",
     "text": [
      "\u001b[1m1/1\u001b[0m \u001b[32m━━━━━━━━━━━━━━━━━━━━\u001b[0m\u001b[37m\u001b[0m \u001b[1m0s\u001b[0m 401ms/step\n",
      "Predicted Class: Banana___Rotten\n"
     ]
    }
   ],
   "source": [
    "import numpy as np\n",
    "from tensorflow.keras.preprocessing.image import load_img, img_to_array\n",
    "from tensorflow.keras.applications.vgg16 import preprocess_input\n",
    "from tensorflow.keras.models import load_model\n",
    "\n",
    "labels = [\n",
    "    'Apple___Fresh', 'Apple___Rotten',\n",
    "    'Banana___Fresh', 'Banana___Rotten',\n",
    "    'Bellpepper__Healthy', 'Bellpepper__Unhealthy',\n",
    "    'Guava___Fresh', 'Guava___Rotten',\n",
    "    'Mango___Fresh', 'Mango___Rotten',\n",
    "    'Orange___Fresh', 'Orange___Rotten',\n",
    "    'Pomegranate___Fresh', 'Pomegranate___Rotten',\n",
    "    'Tomato___Fresh', 'Tomato___Rotten'\n",
    "]\n",
    "\n",
    "\n",
    "model = load_model(\"healthy_vs_rotten.h5\") \n",
    "\n",
    "\n",
    "img_path = r\"C:\\Users\\rakes\\OneDrive\\Desktop\\Fruit_Guard_AI\\train\\Carrot__Healthy\\freshCarrot (7).jpg\"\n",
    "img = load_img(img_path, target_size=(224, 224))\n",
    "x = img_to_array(img)\n",
    "x = preprocess_input(x)\n",
    "x = np.expand_dims(x, axis=0)\n",
    "\n",
    "preds = model.predict(x)\n",
    "predicted_label = labels[np.argmax(preds)]\n",
    "\n",
    "print(\"Predicted Class:\", predicted_label)\n"
   ]
  },
  {
   "cell_type": "code",
   "execution_count": 24,
   "id": "6c26e261",
   "metadata": {},
   "outputs": [
    {
     "data": {
      "text/plain": [
       "'Banana___Rotten'"
      ]
     },
     "execution_count": 24,
     "metadata": {},
     "output_type": "execute_result"
    }
   ],
   "source": [
    "\n",
    "labels[np.argmax(preds)]"
   ]
  },
  {
   "cell_type": "code",
   "execution_count": null,
   "id": "dd6d8d31",
   "metadata": {},
   "outputs": [
    {
     "name": "stderr",
     "output_type": "stream",
     "text": [
      "WARNING:absl:Compiled the loaded model, but the compiled metrics have yet to be built. `model.compile_metrics` will be empty until you train or evaluate the model.\n"
     ]
    },
    {
     "name": "stdout",
     "output_type": "stream",
     "text": [
      "WARNING:tensorflow:6 out of the last 10 calls to <function TensorFlowTrainer.make_predict_function.<locals>.one_step_on_data_distributed at 0x0000024CC0E5E710> triggered tf.function retracing. Tracing is expensive and the excessive number of tracings could be due to (1) creating @tf.function repeatedly in a loop, (2) passing tensors with different shapes, (3) passing Python objects instead of tensors. For (1), please define your @tf.function outside of the loop. For (2), @tf.function has reduce_retracing=True option that can avoid unnecessary retracing. For (3), please refer to https://www.tensorflow.org/guide/function#controlling_retracing and https://www.tensorflow.org/api_docs/python/tf/function for  more details.\n"
     ]
    },
    {
     "name": "stderr",
     "output_type": "stream",
     "text": [
      "WARNING:tensorflow:6 out of the last 10 calls to <function TensorFlowTrainer.make_predict_function.<locals>.one_step_on_data_distributed at 0x0000024CC0E5E710> triggered tf.function retracing. Tracing is expensive and the excessive number of tracings could be due to (1) creating @tf.function repeatedly in a loop, (2) passing tensors with different shapes, (3) passing Python objects instead of tensors. For (1), please define your @tf.function outside of the loop. For (2), @tf.function has reduce_retracing=True option that can avoid unnecessary retracing. For (3), please refer to https://www.tensorflow.org/guide/function#controlling_retracing and https://www.tensorflow.org/api_docs/python/tf/function for  more details.\n"
     ]
    },
    {
     "name": "stdout",
     "output_type": "stream",
     "text": [
      "\u001b[1m1/1\u001b[0m \u001b[32m━━━━━━━━━━━━━━━━━━━━\u001b[0m\u001b[37m\u001b[0m \u001b[1m0s\u001b[0m 459ms/step\n",
      "Predicted Class: Bellpepper__Unhealthy\n"
     ]
    }
   ],
   "source": [
    "import numpy as np\n",
    "from tensorflow.keras.preprocessing.image import load_img, img_to_array\n",
    "from tensorflow.keras.applications.vgg16 import preprocess_input\n",
    "from tensorflow.keras.models import load_model\n",
    "\n",
    "labels = [\n",
    "    'Apple___Fresh', 'Apple___Rotten',\n",
    "    'Banana___Fresh', 'Banana___Rotten',\n",
    "    'Bellpepper__Healthy', 'Bellpepper__Unhealthy',\n",
    "    'Guava___Fresh', 'Guava___Rotten',\n",
    "    'Mango___Fresh', 'Mango___Rotten',\n",
    "    'Orange___Fresh', 'Orange___Rotten',\n",
    "    'Pomegranate___Fresh', 'Pomegranate___Rotten',\n",
    "    'Tomato___Fresh', 'Tomato___Rotten'\n",
    "]\n",
    "\n",
    "\n",
    "model = load_model(\"healthy_vs_rotten.h5\") \n",
    "\n",
    "\n",
    "img_path = r\"C:\\Users\\rakes\\OneDrive\\Desktop\\Fruit_Guard_AI\\train\\Cucumber__Rotten\\rottenCucumber (15).jpg\"\n",
    "img = load_img(img_path, target_size=(224, 224))\n",
    "x = img_to_array(img)\n",
    "x = preprocess_input(x)\n",
    "x = np.expand_dims(x, axis=0)\n",
    "\n",
    "\n",
    "preds = model.predict(x)\n",
    "predicted_label = labels[np.argmax(preds)]\n",
    "\n",
    "print(\"Predicted Class:\", predicted_label)\n"
   ]
  },
  {
   "cell_type": "code",
   "execution_count": 27,
   "id": "71630890",
   "metadata": {},
   "outputs": [
    {
     "data": {
      "text/plain": [
       "'Bellpepper__Unhealthy'"
      ]
     },
     "execution_count": 27,
     "metadata": {},
     "output_type": "execute_result"
    }
   ],
   "source": [
    "\n",
    "labels[np.argmax(preds)]"
   ]
  },
  {
   "cell_type": "code",
   "execution_count": 28,
   "id": "0a434953",
   "metadata": {},
   "outputs": [
    {
     "name": "stderr",
     "output_type": "stream",
     "text": [
      "WARNING:absl:You are saving your model as an HDF5 file via `model.save()` or `keras.saving.save_model(model)`. This file format is considered legacy. We recommend using instead the native Keras format, e.g. `model.save('my_model.keras')` or `keras.saving.save_model(model, 'my_model.keras')`. \n"
     ]
    }
   ],
   "source": [
    "vgg16.save('healthy_vs_rotten.h5')"
   ]
  },
  {
   "cell_type": "code",
   "execution_count": null,
   "id": "09000dc0",
   "metadata": {},
   "outputs": [],
   "source": []
  }
 ],
 "metadata": {
  "kernelspec": {
   "display_name": "pyenv310",
   "language": "python",
   "name": "python3"
  },
  "language_info": {
   "codemirror_mode": {
    "name": "ipython",
    "version": 3
   },
   "file_extension": ".py",
   "mimetype": "text/x-python",
   "name": "python",
   "nbconvert_exporter": "python",
   "pygments_lexer": "ipython3",
   "version": "3.10.18"
  }
 },
 "nbformat": 4,
 "nbformat_minor": 5
}
